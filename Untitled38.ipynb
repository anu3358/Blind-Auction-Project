{
  "nbformat": 4,
  "nbformat_minor": 0,
  "metadata": {
    "colab": {
      "provenance": [],
      "authorship_tag": "ABX9TyOFt3QIs53jFsqCz5bWT937",
      "include_colab_link": true
    },
    "kernelspec": {
      "name": "python3",
      "display_name": "Python 3"
    },
    "language_info": {
      "name": "python"
    }
  },
  "cells": [
    {
      "cell_type": "markdown",
      "metadata": {
        "id": "view-in-github",
        "colab_type": "text"
      },
      "source": [
        "<a href=\"https://colab.research.google.com/github/anu3358/Blind-Auction-Project/blob/main/Untitled38.ipynb\" target=\"_parent\"><img src=\"https://colab.research.google.com/assets/colab-badge.svg\" alt=\"Open In Colab\"/></a>"
      ]
    },
    {
      "cell_type": "code",
      "execution_count": null,
      "metadata": {
        "colab": {
          "base_uri": "https://localhost:8080/",
          "height": 52
        },
        "id": "bEl9h0L4RCCs",
        "outputId": "61e77d6a-c77b-4213-953e-e0f79f72876e"
      },
      "outputs": [
        {
          "output_type": "stream",
          "name": "stdout",
          "text": [
            "ASCII art file created successfully!\n"
          ]
        },
        {
          "output_type": "display_data",
          "data": {
            "text/plain": [
              "/content/ascii_art.txt"
            ],
            "text/html": [
              "<a href='ascii_art.txt' target='_blank'>ascii_art.txt</a><br>"
            ]
          },
          "metadata": {}
        }
      ],
      "source": [
        "# Step 1: Define the ASCII art\n",
        "ascii_art = '''\\\n",
        "                         ___________\n",
        "                         \\\\         /\n",
        "                          )_______(\n",
        "                          |\"\"\"\"\"\"\"|_.-._,.---------.,_.-._\n",
        "                          |       | | |               | | ''-.\n",
        "                          |       |_| |_             _| |_..-'\n",
        "                          |_______| '-' `'---------'` '-'\n",
        "                          )\"\"\"\"\"\"\"(\n",
        "                         /_________\\\\\\\\\n",
        "                       .-------------.\n",
        "                      /_______________\\\\\\\\\n",
        "'''\n",
        "\n",
        "# Step 2: Write the ASCII art to a file\n",
        "file_name = \"ascii_art.txt\"\n",
        "with open(file_name, \"w\") as file:\n",
        "    file.write(ascii_art)\n",
        "\n",
        "# Step 3: Display success and provide download link\n",
        "from IPython.display import FileLink, display\n",
        "\n",
        "print(\"ASCII art file created successfully!\")\n",
        "display(FileLink(file_name))\n"
      ]
    },
    {
      "cell_type": "code",
      "source": [
        "# TODO-1: Ask the user for input\n",
        "# TODO-2: Save data into dictionary {name: price}\n",
        "# TODO-3: Whether if new bids need to be added\n",
        "# TODO-4: Compare bids in dictionary\n",
        "\n",
        "# Simulated logo instead of art.logo\n",
        "print(\"\"\"\n",
        "                         ___________\n",
        "                         \\\\         /\n",
        "                          )_______(\n",
        "                          |\"\"\"\"\"\"\"|_.-._,.---------.,_.-._\n",
        "                          |       | | |               | | ''-.\n",
        "                          |       |_| |_             _| |_..-'\n",
        "                          |_______| '-' `'---------'` '-'\n",
        "                          )\"\"\"\"\"\"\"(\n",
        "                         /_________\\\\\\\\\n",
        "                       .-------------.\n",
        "                      /_______________\\\\\\\\\n",
        "\"\"\")\n",
        "\n",
        "def find_highest_bidder(bidding_dictionary):\n",
        "    winner = \"\"\n",
        "    highest_bid = 0\n",
        "\n",
        "    # This line is unnecessary: max(bidding_dictionary)\n",
        "\n",
        "    for bidder in bidding_dictionary:\n",
        "        bid_amount = bidding_dictionary[bidder]\n",
        "        if bid_amount > highest_bid:\n",
        "            highest_bid = bid_amount\n",
        "            winner = bidder\n",
        "\n",
        "    print(f\"\\nThe winner is {winner} with a bid of ${highest_bid}.\")\n",
        "\n",
        "bids = {}\n",
        "continue_bidding = True\n",
        "\n",
        "while continue_bidding:\n",
        "    name = input(\"What is your name?: \")\n",
        "    price = int(input(\"What is your bid?: $\"))\n",
        "    bids[name] = price\n",
        "\n",
        "    should_continue = input(\"Are there other bidders? Type 'yes' or 'no': \").lower()\n",
        "    if should_continue == \"no\":\n",
        "        continue_bidding = False\n",
        "        find_highest_bidder(bids)\n",
        "    elif should_continue == \"yes\":\n",
        "        # Clears screen effect in CLI (simulated in Colab with lines)\n",
        "        print(\"\\n\" * 20)\n"
      ],
      "metadata": {
        "colab": {
          "base_uri": "https://localhost:8080/"
        },
        "id": "BT5qXrDeWMLu",
        "outputId": "4f99243e-4565-444e-d6d9-f450618dc337"
      },
      "execution_count": 8,
      "outputs": [
        {
          "output_type": "stream",
          "name": "stdout",
          "text": [
            "\n",
            "                         ___________\n",
            "                         \\         /\n",
            "                          )_______(\n",
            "                          |\"|_.-._,.---------.,_.-._\n",
            "                          |       | | |               | | ''-.\n",
            "                          |       |_| |_             _| |_..-'\n",
            "                          |_______| '-' `'---------'` '-'\n",
            "                          )\"(\n",
            "                         /_________\\\\\n",
            "                       .-------------.\n",
            "                      /_______________\\\\\n",
            "\n",
            "What is your name?: Anu\n",
            "What is your bid?: $789\n",
            "Are there other bidders? Type 'yes' or 'no': yes\n",
            "\n",
            "\n",
            "\n",
            "\n",
            "\n",
            "\n",
            "\n",
            "\n",
            "\n",
            "\n",
            "\n",
            "\n",
            "\n",
            "\n",
            "\n",
            "\n",
            "\n",
            "\n",
            "\n",
            "\n",
            "\n",
            "What is your name?: Shreya\n",
            "What is your bid?: $8964\n",
            "Are there other bidders? Type 'yes' or 'no': no\n",
            "\n",
            "The winner is Shreya with a bid of $8964.\n"
          ]
        }
      ]
    },
    {
      "cell_type": "code",
      "metadata": {
        "colab": {
          "base_uri": "https://localhost:8080/"
        },
        "id": "1dfe518b",
        "outputId": "ed55b7a1-f9ac-4920-d187-8cdf9a47020a"
      },
      "source": [
        "%pip install art"
      ],
      "execution_count": null,
      "outputs": [
        {
          "output_type": "stream",
          "name": "stdout",
          "text": [
            "Collecting art\n",
            "  Downloading art-6.5-py3-none-any.whl.metadata (72 kB)\n",
            "\u001b[?25l     \u001b[90m━━━━━━━━━━━━━━━━━━━━━━━━━━━━━━━━━━━━━━━━\u001b[0m \u001b[32m0.0/72.3 kB\u001b[0m \u001b[31m?\u001b[0m eta \u001b[36m-:--:--\u001b[0m\r\u001b[2K     \u001b[90m━━━━━━━━━━━━━━━━━━━━━━━━━━━━━━━━━━━━━━━━\u001b[0m \u001b[32m72.3/72.3 kB\u001b[0m \u001b[31m2.3 MB/s\u001b[0m eta \u001b[36m0:00:00\u001b[0m\n",
            "\u001b[?25hDownloading art-6.5-py3-none-any.whl (610 kB)\n",
            "\u001b[?25l   \u001b[90m━━━━━━━━━━━━━━━━━━━━━━━━━━━━━━━━━━━━━━━━\u001b[0m \u001b[32m0.0/610.4 kB\u001b[0m \u001b[31m?\u001b[0m eta \u001b[36m-:--:--\u001b[0m\r\u001b[2K   \u001b[91m━━━━━━━━━━━━━━━━━━━━━━━━━━━━━━━━━━━━━━━\u001b[0m\u001b[91m╸\u001b[0m \u001b[32m604.2/610.4 kB\u001b[0m \u001b[31m20.7 MB/s\u001b[0m eta \u001b[36m0:00:01\u001b[0m\r\u001b[2K   \u001b[90m━━━━━━━━━━━━━━━━━━━━━━━━━━━━━━━━━━━━━━━━\u001b[0m \u001b[32m610.4/610.4 kB\u001b[0m \u001b[31m13.6 MB/s\u001b[0m eta \u001b[36m0:00:00\u001b[0m\n",
            "\u001b[?25hInstalling collected packages: art\n",
            "Successfully installed art-6.5\n"
          ]
        }
      ]
    }
  ]
}